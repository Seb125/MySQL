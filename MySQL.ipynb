{
 "cells": [
  {
   "cell_type": "code",
   "execution_count": 11,
   "metadata": {},
   "outputs": [],
   "source": [
    "import mysql.connector\n",
    "\n",
    "cnx = mysql.connector.connect(user='root', password='Dhwoiue832749823',\n",
    "                              host='127.0.0.1',\n",
    "                              database='Jazz')\n",
    "\n",
    "\n",
    "cursor = cnx.cursor()\n",
    "\n",
    "\n",
    "add_musician = (\"INSERT INTO Musician \"\n",
    "               \"(Musician_name) \"\n",
    "               \"VALUES (%s)\")\n",
    "\n",
    "\n",
    "data_musician = ('Geert',)\n",
    "\n",
    "# Insert new employee\n",
    "cursor.execute(add_musician, data_musician)\n",
    "emp_no = cursor.lastrowid\n",
    "\n",
    "# Make sure data is committed to the database\n",
    "cnx.commit()\n",
    "\n",
    "cursor.close()\n",
    "cnx.close()"
   ]
  },
  {
   "cell_type": "markdown",
   "metadata": {},
   "source": [
    "## Querying Data"
   ]
  },
  {
   "cell_type": "code",
   "execution_count": 19,
   "metadata": {},
   "outputs": [
    {
     "name": "stdout",
     "output_type": "stream",
     "text": [
      "[('Dave', 'Bailey'), ('Ray', 'Brown'), ('James', 'C.Heard'), ('Benny', 'Carter'), ('Bob', 'Cranshaw'), ('Bill', 'Evans'), ('Grant', 'Greene'), ('Jim', 'Hall'), ('Johnny', 'Hodges'), ('Barney', 'Kessel'), ('Scott', 'LaFaro'), ('Paul', 'Motian'), ('Charlie', 'Parker'), ('Oscar', 'Peterson'), ('Flip', 'Phillips'), ('Ben', 'Riley'), ('Sonny', 'Rollins'), ('Charlie', 'Shavers'), ('Ben', 'Tucker'), ('Ben', 'Webster')]\n",
      "[['Dave', 'Bailey'], ['Ray', 'Brown'], ['James', 'C.Heard'], ['Benny', 'Carter'], ['Bob', 'Cranshaw'], ['Bill', 'Evans'], ['Grant', 'Greene'], ['Jim', 'Hall'], ['Johnny', 'Hodges'], ['Barney', 'Kessel'], ['Scott', 'LaFaro'], ['Paul', 'Motian'], ['Charlie', 'Parker'], ['Oscar', 'Peterson'], ['Flip', 'Phillips'], ['Ben', 'Riley'], ['Sonny', 'Rollins'], ['Charlie', 'Shavers'], ['Ben', 'Tucker'], ['Ben', 'Webster']]\n"
     ]
    }
   ],
   "source": [
    "import mysql.connector\n",
    "\n",
    "cnx = mysql.connector.connect(user='root', password='Dhwoiue832749823',\n",
    "                              host='127.0.0.1',\n",
    "                              database='Jazz')\n",
    "\n",
    "\n",
    "cursor = cnx.cursor()\n",
    "\n",
    "query = (\"SELECT musician_first_name, musician_last_name FROM musician\")\n",
    "\n",
    "cursor.execute(query)\n",
    "\n",
    "rows  = cursor.fetchall()\n",
    "\n",
    "list_of_lists = [list(elem) for elem in rows]\n",
    "\n",
    "print(rows)\n",
    "\n",
    "print(list_of_lists)\n",
    "\n",
    "cursor.close()\n",
    "cnx.close()"
   ]
  },
  {
   "cell_type": "markdown",
   "metadata": {},
   "source": [
    "## Query with GUI"
   ]
  },
  {
   "cell_type": "code",
   "execution_count": 21,
   "metadata": {},
   "outputs": [],
   "source": [
    "import PySimpleGUI as sg\n",
    "import mysql.connector\n",
    "import numpy as np\n",
    "\n",
    "\n",
    "cnx = mysql.connector.connect(user='root', password='Dhwoiue832749823',\n",
    "                              host='127.0.0.1',\n",
    "                              database='Jazz')\n",
    "\n",
    "\n",
    "cursor = cnx.cursor()\n",
    "\n",
    "query = (\"SELECT musician_first_name, musician_last_name FROM musician\")\n",
    "\n",
    "cursor.execute(query)\n",
    "\n",
    "rows  = cursor.fetchall()\n",
    "\n",
    "list_of_lists = [list(elem) for elem in rows]\n",
    "\n",
    "\n",
    "headings = ['First Name', 'Last Name']\n",
    "\n",
    "layout = [\n",
    "        [sg.Table(values=list_of_lists, \n",
    "        headings=headings, \n",
    "        max_col_width=35,\n",
    "                    auto_size_columns=True,\n",
    "                    display_row_numbers=True,\n",
    "                    justification='right',\n",
    "                    num_rows=10,\n",
    "                    key='-TABLE-',\n",
    "                    row_height=35)]\n",
    "    ]\n",
    "\n",
    "window = sg.Window(\"Contact Information Window\", layout)\n",
    "\n",
    "while True:\n",
    "    event, values = window.read()\n",
    "    if event == \"Exit\" or event == sg.WIN_CLOSED:\n",
    "        break\n",
    "        \n",
    "window.close()\n",
    "cursor.close()\n",
    "cnx.close()"
   ]
  },
  {
   "cell_type": "code",
   "execution_count": null,
   "metadata": {},
   "outputs": [],
   "source": []
  }
 ],
 "metadata": {
  "kernelspec": {
   "display_name": "Python 3",
   "language": "python",
   "name": "python3"
  },
  "language_info": {
   "codemirror_mode": {
    "name": "ipython",
    "version": 3
   },
   "file_extension": ".py",
   "mimetype": "text/x-python",
   "name": "python",
   "nbconvert_exporter": "python",
   "pygments_lexer": "ipython3",
   "version": "3.8.3"
  }
 },
 "nbformat": 4,
 "nbformat_minor": 4
}
